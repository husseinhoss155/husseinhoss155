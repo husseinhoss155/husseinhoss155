{
  "cells": [
    {
      "cell_type": "markdown",
      "metadata": {
        "id": "view-in-github",
        "colab_type": "text"
      },
      "source": [
        "<a href=\"https://colab.research.google.com/github/husseinhoss155/husseinhoss155/blob/master/cnn.ipynb\" target=\"_parent\"><img src=\"https://colab.research.google.com/assets/colab-badge.svg\" alt=\"Open In Colab\"/></a>"
      ]
    },
    {
      "cell_type": "code",
      "execution_count": 55,
      "metadata": {
        "id": "pPiNuLQ2uOdR"
      },
      "outputs": [],
      "source": [
        "import numpy as np\n",
        "import pandas as pd\n",
        "import _pickle as cPickle\n",
        "from sklearn.model_selection import train_test_split\n",
        "import tensorflow\n",
        "from tensorflow.keras.layers import Conv2D,Activation,Dense,Input,Reshape,Flatten\n",
        "from tensorflow.keras.optimizers import Adam\n",
        "from tensorflow.keras.models import Sequential"
      ]
    },
    {
      "cell_type": "code",
      "execution_count": 56,
      "metadata": {
        "colab": {
          "base_uri": "https://localhost:8080/"
        },
        "id": "LcK35LEhuUqU",
        "outputId": "d451ca2a-7da6-4293-e2e8-4ccb20b70062"
      },
      "outputs": [
        {
          "output_type": "stream",
          "name": "stdout",
          "text": [
            "Drive already mounted at /content/drive; to attempt to forcibly remount, call drive.mount(\"/content/drive\", force_remount=True).\n"
          ]
        }
      ],
      "source": [
        "from google.colab import drive\n",
        "drive.mount('/content/drive')"
      ]
    },
    {
      "cell_type": "code",
      "execution_count": 57,
      "metadata": {
        "id": "VVQTrXwmCa0u"
      },
      "outputs": [],
      "source": [
        "data = cPickle.load(open('/content/drive/My Drive/Radio dataset/RML2016.10b.dat','rb'),encoding='latin')"
      ]
    },
    {
      "cell_type": "code",
      "execution_count": 58,
      "metadata": {
        "id": "Mf3AHFlLC0xv"
      },
      "outputs": [],
      "source": [
        "series = pd.Series(data)\n",
        "signals = series.values\n",
        "lbl = []\n",
        "for i in series.index:\n",
        "  for j in range(6000):\n",
        "    lbl.append([i[0],i[1]])"
      ]
    },
    {
      "cell_type": "code",
      "execution_count": 59,
      "metadata": {
        "id": "-3NvcVXfOoYG"
      },
      "outputs": [],
      "source": [
        "Xdata=[]\n",
        "for i in signals:\n",
        "  for signal in i:\n",
        "    Xdata.append(signal)\n",
        "Xdata = np.array(Xdata)"
      ]
    },
    {
      "cell_type": "code",
      "execution_count": 60,
      "metadata": {
        "id": "slJyJJAJTzfF"
      },
      "outputs": [],
      "source": [
        "lbl = np.array(lbl)\n",
        "lbl = lbl[:,0]\n",
        "lbl = lbl.T\n",
        "rows = lbl.shape[0]\n",
        "lbl = lbl.tolist()"
      ]
    },
    {
      "cell_type": "code",
      "execution_count": 61,
      "metadata": {
        "colab": {
          "base_uri": "https://localhost:8080/"
        },
        "id": "E1ui2WCA09yU",
        "outputId": "823e225b-5cbf-43e3-e61c-4ee631fadc26"
      },
      "outputs": [
        {
          "output_type": "execute_result",
          "data": {
            "text/plain": [
              "(1200000,)"
            ]
          },
          "metadata": {},
          "execution_count": 61
        }
      ],
      "source": [
        "np.array(lbl).shape"
      ]
    },
    {
      "cell_type": "code",
      "execution_count": 62,
      "metadata": {
        "id": "PoZDs7Ibtqjg"
      },
      "outputs": [],
      "source": [
        "dictionary = {'8PSK':0,  'AM-DSB':2,  'AM-SSB':3,'BPSK':4,'CPFSK':5,'GFSK':6,'PAM4':7,'QAM16':8,'QAM64':9,'QPSK':10,'WBFM':1}\n",
        "for i in range(rows):\n",
        "  for key,value in dictionary.items():\n",
        "    if lbl[i] == key:\n",
        "      lbl[i] = value"
      ]
    },
    {
      "cell_type": "code",
      "execution_count": 63,
      "metadata": {
        "id": "kN0bhF003qLr"
      },
      "outputs": [],
      "source": [
        "# Xdata = Xdata[0:1000,:]\n",
        "# lbl = np.array(lbl)[0:1000].tolist()"
      ]
    },
    {
      "cell_type": "code",
      "execution_count": 64,
      "metadata": {
        "id": "epYv_rQVKr9O"
      },
      "outputs": [],
      "source": [
        " X_train, X_test, y_train, y_test = train_test_split(Xdata, lbl, test_size=0.3, random_state=1)"
      ]
    },
    {
      "cell_type": "code",
      "execution_count": 65,
      "metadata": {
        "id": "e1wCaYPbUNFa"
      },
      "outputs": [],
      "source": [
        " X_train, X_valid, y_train, y_valid = train_test_split(X_train, y_train, test_size=0.05, random_state=1)"
      ]
    },
    {
      "cell_type": "code",
      "execution_count": 66,
      "metadata": {
        "id": "pXfx_NOyVBDZ"
      },
      "outputs": [],
      "source": [
        "model = Sequential()\n",
        "model.add(Reshape(target_shape=(2,128,1),input_shape=(2,128)))\n",
        "model.add(Conv2D(filters=64,kernel_size=(1,3),activation='relu'))\n",
        "model.add(Conv2D(filters=16,kernel_size=(2,3),activation='relu'))\n",
        "model.add(Flatten())\n",
        "model.add(Dense(units=128,activation='relu'))\n",
        "model.add(Dense(units=11,activation='softmax'))\n"
      ]
    },
    {
      "cell_type": "code",
      "execution_count": 67,
      "metadata": {
        "id": "6O9ger-q3QoC"
      },
      "outputs": [],
      "source": [
        "model.optimizer = tensorflow.keras.optimizers.Adam(learning_rate=0.001)"
      ]
    },
    {
      "cell_type": "code",
      "execution_count": 68,
      "metadata": {
        "id": "XonN_P41cLbA"
      },
      "outputs": [],
      "source": [
        "model.compile(loss=tensorflow.keras.losses.SparseCategoricalCrossentropy(),metrics=['accuracy'])"
      ]
    },
    {
      "cell_type": "code",
      "execution_count": 69,
      "metadata": {
        "colab": {
          "base_uri": "https://localhost:8080/"
        },
        "id": "PIZa9KMF0fUQ",
        "outputId": "13a575c0-88f6-4c3a-c442-39ed0ea2136d"
      },
      "outputs": [
        {
          "output_type": "execute_result",
          "data": {
            "text/plain": [
              "(1200000,)"
            ]
          },
          "metadata": {},
          "execution_count": 69
        }
      ],
      "source": [
        "np.array(lbl).shape"
      ]
    },
    {
      "cell_type": "code",
      "execution_count": 69,
      "metadata": {
        "id": "uEvjd86c0fQ6"
      },
      "outputs": [],
      "source": [
        ""
      ]
    },
    {
      "cell_type": "code",
      "execution_count": 70,
      "metadata": {
        "colab": {
          "base_uri": "https://localhost:8080/"
        },
        "id": "8q4i3PW7l1U3",
        "outputId": "75dd360a-73dc-4c86-d59c-939092b742c5"
      },
      "outputs": [
        {
          "output_type": "stream",
          "name": "stdout",
          "text": [
            "Model: \"sequential_2\"\n",
            "_________________________________________________________________\n",
            " Layer (type)                Output Shape              Param #   \n",
            "=================================================================\n",
            " reshape_2 (Reshape)         (None, 2, 128, 1)         0         \n",
            "                                                                 \n",
            " conv2d_4 (Conv2D)           (None, 2, 126, 64)        256       \n",
            "                                                                 \n",
            " conv2d_5 (Conv2D)           (None, 1, 124, 16)        6160      \n",
            "                                                                 \n",
            " flatten_2 (Flatten)         (None, 1984)              0         \n",
            "                                                                 \n",
            " dense_4 (Dense)             (None, 128)               254080    \n",
            "                                                                 \n",
            " dense_5 (Dense)             (None, 11)                1419      \n",
            "                                                                 \n",
            "=================================================================\n",
            "Total params: 261,915\n",
            "Trainable params: 261,915\n",
            "Non-trainable params: 0\n",
            "_________________________________________________________________\n"
          ]
        }
      ],
      "source": [
        "model.summary()"
      ]
    },
    {
      "cell_type": "code",
      "execution_count": 71,
      "metadata": {
        "id": "DndsQsfDx6ec"
      },
      "outputs": [],
      "source": [
        "while True:\n",
        "  for item in y_train:\n",
        "    if str(type(item))=='<class \\'str\\'>':\n",
        "      print(type(item))\n",
        "      print(item)\n",
        "      break\n",
        "  break"
      ]
    },
    {
      "cell_type": "code",
      "source": [
        ""
      ],
      "metadata": {
        "id": "d0uk_P2mD3A8"
      },
      "execution_count": 71,
      "outputs": []
    },
    {
      "cell_type": "code",
      "execution_count": null,
      "metadata": {
        "colab": {
          "base_uri": "https://localhost:8080/"
        },
        "id": "72jxYAfWdMXF",
        "outputId": "4b3b4f81-050d-4016-fca9-8b4c43e40204"
      },
      "outputs": [
        {
          "output_type": "stream",
          "name": "stdout",
          "text": [
            "Epoch 1/20\n",
            " 5024/24938 [=====>........................] - ETA: 7:08 - loss: 1.7883 - accuracy: 0.2955"
          ]
        }
      ],
      "source": [
        "# X_train = tensorflow.stack(X_train)\n",
        "# y_train = tensorflow.stack(y_train)\n",
        "# X_valid = tensorflow.stack(y_train)\n",
        "# y_valid = \n",
        "history = model.fit(\n",
        "    np.array(X_train),\n",
        "    np.array(y_train),\n",
        "    batch_size=32,\n",
        "    epochs=20,\n",
        "    validation_data=(np.array(X_valid),np.array(y_valid)),\n",
        "    shuffle=True\n",
        ")"
      ]
    }
  ],
  "metadata": {
    "colab": {
      "collapsed_sections": [],
      "name": "Untitled1.ipynb",
      "provenance": [],
      "authorship_tag": "ABX9TyP/t0eKfuanG0pEvxFa2V+6",
      "include_colab_link": true
    },
    "kernelspec": {
      "display_name": "Python 3",
      "name": "python3"
    },
    "language_info": {
      "name": "python"
    }
  },
  "nbformat": 4,
  "nbformat_minor": 0
}